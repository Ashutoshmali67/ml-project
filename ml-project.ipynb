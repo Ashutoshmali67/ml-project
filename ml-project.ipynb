{
 "cells": [
  {
   "cell_type": "code",
   "execution_count": 1,
   "id": "e280a22c",
   "metadata": {},
   "outputs": [],
   "source": [
    "import numpy as np\n",
    "import pandas as pd\n",
    "import matplotlib.pyplot as plt\n",
    "import seaborn as sns\n",
    "\n",
    "from sklearn.model_selection import train_test_split\n",
    "from sklearn.linear_model import LogisticRegression\n",
    "from sklearn.neighbors import KNeighborsClassifier\n",
    "from sklearn.svm import SVC\n",
    "from sklearn.tree import DecisionTreeClassifier\n",
    "\n",
    "from sklearn.metrics import accuracy_score, classification_report, confusion_matrix\n",
    "from sklearn.model_selection import cross_val_score\n",
    "\n",
    "import warnings\n",
    "warnings.filterwarnings(\"ignore\")"
   ]
  },
  {
   "cell_type": "markdown",
   "id": "16f28221",
   "metadata": {},
   "source": [
    "Features\n",
    "\n",
    "enrollee_id : Unique ID for candidate\n",
    "\n",
    "city: City code\n",
    "\n",
    "city_ development _index : Developement index of the city (scaled)\n",
    "\n",
    "gender: Gender of candidate\n",
    "\n",
    "relevent_experience: Relevant experience of candidate\n",
    "\n",
    "enrolled_university: Type of University course enrolled if any\n",
    "\n",
    "education_level: Education level of candidate\n",
    "\n",
    "major_discipline :Education major discipline of candidate\n",
    "\n",
    "experience: Candidate total experience in years\n",
    "\n",
    "company_size: No of employees in current employer's company\n",
    "\n",
    "company_type : Type of current employer\n",
    "\n",
    "lastnewjob: Difference in years between previous job and current job\n",
    "\n",
    "training_hours: training hours completed\n",
    "\n",
    "target: 0 – Not looking for job change, 1 – Looking for a job change"
   ]
  },
  {
   "cell_type": "code",
   "execution_count": 2,
   "id": "700e6d5b",
   "metadata": {},
   "outputs": [],
   "source": [
    "df=pd.read_csv('aug_train.csv')"
   ]
  },
  {
   "cell_type": "code",
   "execution_count": 3,
   "id": "9f6cf039",
   "metadata": {},
   "outputs": [
    {
     "data": {
      "text/html": [
       "<div>\n",
       "<style scoped>\n",
       "    .dataframe tbody tr th:only-of-type {\n",
       "        vertical-align: middle;\n",
       "    }\n",
       "\n",
       "    .dataframe tbody tr th {\n",
       "        vertical-align: top;\n",
       "    }\n",
       "\n",
       "    .dataframe thead th {\n",
       "        text-align: right;\n",
       "    }\n",
       "</style>\n",
       "<table border=\"1\" class=\"dataframe\">\n",
       "  <thead>\n",
       "    <tr style=\"text-align: right;\">\n",
       "      <th></th>\n",
       "      <th>enrollee_id</th>\n",
       "      <th>city</th>\n",
       "      <th>city_development_index</th>\n",
       "      <th>gender</th>\n",
       "      <th>relevent_experience</th>\n",
       "      <th>enrolled_university</th>\n",
       "      <th>education_level</th>\n",
       "      <th>major_discipline</th>\n",
       "      <th>experience</th>\n",
       "      <th>company_size</th>\n",
       "      <th>company_type</th>\n",
       "      <th>last_new_job</th>\n",
       "      <th>training_hours</th>\n",
       "      <th>target</th>\n",
       "    </tr>\n",
       "  </thead>\n",
       "  <tbody>\n",
       "    <tr>\n",
       "      <th>0</th>\n",
       "      <td>8949</td>\n",
       "      <td>city_103</td>\n",
       "      <td>0.920</td>\n",
       "      <td>Male</td>\n",
       "      <td>Has relevent experience</td>\n",
       "      <td>no_enrollment</td>\n",
       "      <td>Graduate</td>\n",
       "      <td>STEM</td>\n",
       "      <td>&gt;20</td>\n",
       "      <td>NaN</td>\n",
       "      <td>NaN</td>\n",
       "      <td>1</td>\n",
       "      <td>36</td>\n",
       "      <td>1.0</td>\n",
       "    </tr>\n",
       "    <tr>\n",
       "      <th>1</th>\n",
       "      <td>29725</td>\n",
       "      <td>city_40</td>\n",
       "      <td>0.776</td>\n",
       "      <td>Male</td>\n",
       "      <td>No relevent experience</td>\n",
       "      <td>no_enrollment</td>\n",
       "      <td>Graduate</td>\n",
       "      <td>STEM</td>\n",
       "      <td>15</td>\n",
       "      <td>50-99</td>\n",
       "      <td>Pvt Ltd</td>\n",
       "      <td>&gt;4</td>\n",
       "      <td>47</td>\n",
       "      <td>0.0</td>\n",
       "    </tr>\n",
       "    <tr>\n",
       "      <th>2</th>\n",
       "      <td>11561</td>\n",
       "      <td>city_21</td>\n",
       "      <td>0.624</td>\n",
       "      <td>NaN</td>\n",
       "      <td>No relevent experience</td>\n",
       "      <td>Full time course</td>\n",
       "      <td>Graduate</td>\n",
       "      <td>STEM</td>\n",
       "      <td>5</td>\n",
       "      <td>NaN</td>\n",
       "      <td>NaN</td>\n",
       "      <td>never</td>\n",
       "      <td>83</td>\n",
       "      <td>0.0</td>\n",
       "    </tr>\n",
       "    <tr>\n",
       "      <th>3</th>\n",
       "      <td>33241</td>\n",
       "      <td>city_115</td>\n",
       "      <td>0.789</td>\n",
       "      <td>NaN</td>\n",
       "      <td>No relevent experience</td>\n",
       "      <td>NaN</td>\n",
       "      <td>Graduate</td>\n",
       "      <td>Business Degree</td>\n",
       "      <td>&lt;1</td>\n",
       "      <td>NaN</td>\n",
       "      <td>Pvt Ltd</td>\n",
       "      <td>never</td>\n",
       "      <td>52</td>\n",
       "      <td>1.0</td>\n",
       "    </tr>\n",
       "    <tr>\n",
       "      <th>4</th>\n",
       "      <td>666</td>\n",
       "      <td>city_162</td>\n",
       "      <td>0.767</td>\n",
       "      <td>Male</td>\n",
       "      <td>Has relevent experience</td>\n",
       "      <td>no_enrollment</td>\n",
       "      <td>Masters</td>\n",
       "      <td>STEM</td>\n",
       "      <td>&gt;20</td>\n",
       "      <td>50-99</td>\n",
       "      <td>Funded Startup</td>\n",
       "      <td>4</td>\n",
       "      <td>8</td>\n",
       "      <td>0.0</td>\n",
       "    </tr>\n",
       "  </tbody>\n",
       "</table>\n",
       "</div>"
      ],
      "text/plain": [
       "   enrollee_id      city  city_development_index gender  \\\n",
       "0         8949  city_103                   0.920   Male   \n",
       "1        29725   city_40                   0.776   Male   \n",
       "2        11561   city_21                   0.624    NaN   \n",
       "3        33241  city_115                   0.789    NaN   \n",
       "4          666  city_162                   0.767   Male   \n",
       "\n",
       "       relevent_experience enrolled_university education_level  \\\n",
       "0  Has relevent experience       no_enrollment        Graduate   \n",
       "1   No relevent experience       no_enrollment        Graduate   \n",
       "2   No relevent experience    Full time course        Graduate   \n",
       "3   No relevent experience                 NaN        Graduate   \n",
       "4  Has relevent experience       no_enrollment         Masters   \n",
       "\n",
       "  major_discipline experience company_size    company_type last_new_job  \\\n",
       "0             STEM        >20          NaN             NaN            1   \n",
       "1             STEM         15        50-99         Pvt Ltd           >4   \n",
       "2             STEM          5          NaN             NaN        never   \n",
       "3  Business Degree         <1          NaN         Pvt Ltd        never   \n",
       "4             STEM        >20        50-99  Funded Startup            4   \n",
       "\n",
       "   training_hours  target  \n",
       "0              36     1.0  \n",
       "1              47     0.0  \n",
       "2              83     0.0  \n",
       "3              52     1.0  \n",
       "4               8     0.0  "
      ]
     },
     "execution_count": 3,
     "metadata": {},
     "output_type": "execute_result"
    }
   ],
   "source": [
    "df.head()"
   ]
  },
  {
   "cell_type": "code",
   "execution_count": 4,
   "id": "a0c5ddd4",
   "metadata": {},
   "outputs": [
    {
     "name": "stdout",
     "output_type": "stream",
     "text": [
      "<class 'pandas.core.frame.DataFrame'>\n",
      "RangeIndex: 19158 entries, 0 to 19157\n",
      "Data columns (total 14 columns):\n",
      " #   Column                  Non-Null Count  Dtype  \n",
      "---  ------                  --------------  -----  \n",
      " 0   enrollee_id             19158 non-null  int64  \n",
      " 1   city                    19158 non-null  object \n",
      " 2   city_development_index  19158 non-null  float64\n",
      " 3   gender                  14650 non-null  object \n",
      " 4   relevent_experience     19158 non-null  object \n",
      " 5   enrolled_university     18772 non-null  object \n",
      " 6   education_level         18698 non-null  object \n",
      " 7   major_discipline        16345 non-null  object \n",
      " 8   experience              19093 non-null  object \n",
      " 9   company_size            13220 non-null  object \n",
      " 10  company_type            13018 non-null  object \n",
      " 11  last_new_job            18735 non-null  object \n",
      " 12  training_hours          19158 non-null  int64  \n",
      " 13  target                  19158 non-null  float64\n",
      "dtypes: float64(2), int64(2), object(10)\n",
      "memory usage: 2.0+ MB\n"
     ]
    }
   ],
   "source": [
    "df.info()"
   ]
  },
  {
   "cell_type": "code",
   "execution_count": 5,
   "id": "ef78df7a",
   "metadata": {},
   "outputs": [
    {
     "data": {
      "text/plain": [
       "enrollee_id                  0\n",
       "city                         0\n",
       "city_development_index       0\n",
       "gender                    4508\n",
       "relevent_experience          0\n",
       "enrolled_university        386\n",
       "education_level            460\n",
       "major_discipline          2813\n",
       "experience                  65\n",
       "company_size              5938\n",
       "company_type              6140\n",
       "last_new_job               423\n",
       "training_hours               0\n",
       "target                       0\n",
       "dtype: int64"
      ]
     },
     "execution_count": 5,
     "metadata": {},
     "output_type": "execute_result"
    }
   ],
   "source": [
    "df.isna().sum()"
   ]
  },
  {
   "cell_type": "code",
   "execution_count": 6,
   "id": "4c0e05d6",
   "metadata": {},
   "outputs": [],
   "source": [
    "df.drop('company_size',axis=1,inplace=True)\n",
    "df.company_type.replace(np.nan,'Early Stage Startup',inplace=True)\n",
    "df.gender.replace(np.nan,'Female',inplace=True)\n",
    "df.enrolled_university.replace(np.nan,'Part time course',inplace=True) \n",
    "df.education_level.replace(np.nan,'Phd',inplace=True)  \n",
    "df.major_discipline.replace(np.nan,'Business Degree',inplace=True)\n",
    "df.experience.replace(np.nan,8,inplace=True)\n",
    "df.experience.replace('>20',20,inplace=True)\n",
    "df.experience.replace('<1',1,inplace=True)\n",
    "df['experience']=df['experience'].astype('int')\n",
    "df.last_new_job.replace(np.nan,0,inplace=True)\n",
    "df.last_new_job.replace('never',5,inplace=True)\n",
    "df.last_new_job.replace('>4',4,inplace=True)\n",
    "df['last_new_job']=df['last_new_job'].astype('int')\n",
    "df['target']=df['target'].astype('int')"
   ]
  },
  {
   "cell_type": "code",
   "execution_count": 7,
   "id": "49390ada",
   "metadata": {},
   "outputs": [
    {
     "data": {
      "text/html": [
       "<div>\n",
       "<style scoped>\n",
       "    .dataframe tbody tr th:only-of-type {\n",
       "        vertical-align: middle;\n",
       "    }\n",
       "\n",
       "    .dataframe tbody tr th {\n",
       "        vertical-align: top;\n",
       "    }\n",
       "\n",
       "    .dataframe thead th {\n",
       "        text-align: right;\n",
       "    }\n",
       "</style>\n",
       "<table border=\"1\" class=\"dataframe\">\n",
       "  <thead>\n",
       "    <tr style=\"text-align: right;\">\n",
       "      <th></th>\n",
       "      <th>enrollee_id</th>\n",
       "      <th>city</th>\n",
       "      <th>city_development_index</th>\n",
       "      <th>gender</th>\n",
       "      <th>relevent_experience</th>\n",
       "      <th>enrolled_university</th>\n",
       "      <th>education_level</th>\n",
       "      <th>major_discipline</th>\n",
       "      <th>experience</th>\n",
       "      <th>company_type</th>\n",
       "      <th>last_new_job</th>\n",
       "      <th>training_hours</th>\n",
       "      <th>target</th>\n",
       "    </tr>\n",
       "  </thead>\n",
       "  <tbody>\n",
       "    <tr>\n",
       "      <th>0</th>\n",
       "      <td>8949</td>\n",
       "      <td>city_103</td>\n",
       "      <td>0.920</td>\n",
       "      <td>Male</td>\n",
       "      <td>Has relevent experience</td>\n",
       "      <td>no_enrollment</td>\n",
       "      <td>Graduate</td>\n",
       "      <td>STEM</td>\n",
       "      <td>20</td>\n",
       "      <td>Early Stage Startup</td>\n",
       "      <td>1</td>\n",
       "      <td>36</td>\n",
       "      <td>1</td>\n",
       "    </tr>\n",
       "    <tr>\n",
       "      <th>1</th>\n",
       "      <td>29725</td>\n",
       "      <td>city_40</td>\n",
       "      <td>0.776</td>\n",
       "      <td>Male</td>\n",
       "      <td>No relevent experience</td>\n",
       "      <td>no_enrollment</td>\n",
       "      <td>Graduate</td>\n",
       "      <td>STEM</td>\n",
       "      <td>15</td>\n",
       "      <td>Pvt Ltd</td>\n",
       "      <td>4</td>\n",
       "      <td>47</td>\n",
       "      <td>0</td>\n",
       "    </tr>\n",
       "    <tr>\n",
       "      <th>2</th>\n",
       "      <td>11561</td>\n",
       "      <td>city_21</td>\n",
       "      <td>0.624</td>\n",
       "      <td>Female</td>\n",
       "      <td>No relevent experience</td>\n",
       "      <td>Full time course</td>\n",
       "      <td>Graduate</td>\n",
       "      <td>STEM</td>\n",
       "      <td>5</td>\n",
       "      <td>Early Stage Startup</td>\n",
       "      <td>5</td>\n",
       "      <td>83</td>\n",
       "      <td>0</td>\n",
       "    </tr>\n",
       "    <tr>\n",
       "      <th>3</th>\n",
       "      <td>33241</td>\n",
       "      <td>city_115</td>\n",
       "      <td>0.789</td>\n",
       "      <td>Female</td>\n",
       "      <td>No relevent experience</td>\n",
       "      <td>Part time course</td>\n",
       "      <td>Graduate</td>\n",
       "      <td>Business Degree</td>\n",
       "      <td>1</td>\n",
       "      <td>Pvt Ltd</td>\n",
       "      <td>5</td>\n",
       "      <td>52</td>\n",
       "      <td>1</td>\n",
       "    </tr>\n",
       "    <tr>\n",
       "      <th>4</th>\n",
       "      <td>666</td>\n",
       "      <td>city_162</td>\n",
       "      <td>0.767</td>\n",
       "      <td>Male</td>\n",
       "      <td>Has relevent experience</td>\n",
       "      <td>no_enrollment</td>\n",
       "      <td>Masters</td>\n",
       "      <td>STEM</td>\n",
       "      <td>20</td>\n",
       "      <td>Funded Startup</td>\n",
       "      <td>4</td>\n",
       "      <td>8</td>\n",
       "      <td>0</td>\n",
       "    </tr>\n",
       "  </tbody>\n",
       "</table>\n",
       "</div>"
      ],
      "text/plain": [
       "   enrollee_id      city  city_development_index  gender  \\\n",
       "0         8949  city_103                   0.920    Male   \n",
       "1        29725   city_40                   0.776    Male   \n",
       "2        11561   city_21                   0.624  Female   \n",
       "3        33241  city_115                   0.789  Female   \n",
       "4          666  city_162                   0.767    Male   \n",
       "\n",
       "       relevent_experience enrolled_university education_level  \\\n",
       "0  Has relevent experience       no_enrollment        Graduate   \n",
       "1   No relevent experience       no_enrollment        Graduate   \n",
       "2   No relevent experience    Full time course        Graduate   \n",
       "3   No relevent experience    Part time course        Graduate   \n",
       "4  Has relevent experience       no_enrollment         Masters   \n",
       "\n",
       "  major_discipline  experience         company_type  last_new_job  \\\n",
       "0             STEM          20  Early Stage Startup             1   \n",
       "1             STEM          15              Pvt Ltd             4   \n",
       "2             STEM           5  Early Stage Startup             5   \n",
       "3  Business Degree           1              Pvt Ltd             5   \n",
       "4             STEM          20       Funded Startup             4   \n",
       "\n",
       "   training_hours  target  \n",
       "0              36       1  \n",
       "1              47       0  \n",
       "2              83       0  \n",
       "3              52       1  \n",
       "4               8       0  "
      ]
     },
     "execution_count": 7,
     "metadata": {},
     "output_type": "execute_result"
    }
   ],
   "source": [
    "df.head()"
   ]
  },
  {
   "cell_type": "code",
   "execution_count": 8,
   "id": "1dcadefe",
   "metadata": {},
   "outputs": [
    {
     "name": "stdout",
     "output_type": "stream",
     "text": [
      "<class 'pandas.core.frame.DataFrame'>\n",
      "RangeIndex: 19158 entries, 0 to 19157\n",
      "Data columns (total 13 columns):\n",
      " #   Column                  Non-Null Count  Dtype  \n",
      "---  ------                  --------------  -----  \n",
      " 0   enrollee_id             19158 non-null  int64  \n",
      " 1   city                    19158 non-null  object \n",
      " 2   city_development_index  19158 non-null  float64\n",
      " 3   gender                  19158 non-null  object \n",
      " 4   relevent_experience     19158 non-null  object \n",
      " 5   enrolled_university     19158 non-null  object \n",
      " 6   education_level         19158 non-null  object \n",
      " 7   major_discipline        19158 non-null  object \n",
      " 8   experience              19158 non-null  int32  \n",
      " 9   company_type            19158 non-null  object \n",
      " 10  last_new_job            19158 non-null  int32  \n",
      " 11  training_hours          19158 non-null  int64  \n",
      " 12  target                  19158 non-null  int32  \n",
      "dtypes: float64(1), int32(3), int64(2), object(7)\n",
      "memory usage: 1.7+ MB\n"
     ]
    }
   ],
   "source": [
    "df.info()"
   ]
  },
  {
   "cell_type": "code",
   "execution_count": 9,
   "id": "c4bc0389",
   "metadata": {},
   "outputs": [
    {
     "data": {
      "text/plain": [
       "enrollee_id               0\n",
       "city                      0\n",
       "city_development_index    0\n",
       "gender                    0\n",
       "relevent_experience       0\n",
       "enrolled_university       0\n",
       "education_level           0\n",
       "major_discipline          0\n",
       "experience                0\n",
       "company_type              0\n",
       "last_new_job              0\n",
       "training_hours            0\n",
       "target                    0\n",
       "dtype: int64"
      ]
     },
     "execution_count": 9,
     "metadata": {},
     "output_type": "execute_result"
    }
   ],
   "source": [
    "df.isna().sum()"
   ]
  },
  {
   "cell_type": "code",
   "execution_count": 10,
   "id": "9a8c5729",
   "metadata": {},
   "outputs": [],
   "source": [
    "df.drop('enrollee_id',axis=1,inplace=True)"
   ]
  },
  {
   "cell_type": "code",
   "execution_count": 11,
   "id": "d3c1f1d6",
   "metadata": {},
   "outputs": [
    {
     "data": {
      "text/html": [
       "<div>\n",
       "<style scoped>\n",
       "    .dataframe tbody tr th:only-of-type {\n",
       "        vertical-align: middle;\n",
       "    }\n",
       "\n",
       "    .dataframe tbody tr th {\n",
       "        vertical-align: top;\n",
       "    }\n",
       "\n",
       "    .dataframe thead th {\n",
       "        text-align: right;\n",
       "    }\n",
       "</style>\n",
       "<table border=\"1\" class=\"dataframe\">\n",
       "  <thead>\n",
       "    <tr style=\"text-align: right;\">\n",
       "      <th></th>\n",
       "      <th>city</th>\n",
       "      <th>city_development_index</th>\n",
       "      <th>gender</th>\n",
       "      <th>relevent_experience</th>\n",
       "      <th>enrolled_university</th>\n",
       "      <th>education_level</th>\n",
       "      <th>major_discipline</th>\n",
       "      <th>experience</th>\n",
       "      <th>company_type</th>\n",
       "      <th>last_new_job</th>\n",
       "      <th>training_hours</th>\n",
       "      <th>target</th>\n",
       "    </tr>\n",
       "  </thead>\n",
       "  <tbody>\n",
       "    <tr>\n",
       "      <th>0</th>\n",
       "      <td>city_103</td>\n",
       "      <td>0.920</td>\n",
       "      <td>Male</td>\n",
       "      <td>Has relevent experience</td>\n",
       "      <td>no_enrollment</td>\n",
       "      <td>Graduate</td>\n",
       "      <td>STEM</td>\n",
       "      <td>20</td>\n",
       "      <td>Early Stage Startup</td>\n",
       "      <td>1</td>\n",
       "      <td>36</td>\n",
       "      <td>1</td>\n",
       "    </tr>\n",
       "    <tr>\n",
       "      <th>1</th>\n",
       "      <td>city_40</td>\n",
       "      <td>0.776</td>\n",
       "      <td>Male</td>\n",
       "      <td>No relevent experience</td>\n",
       "      <td>no_enrollment</td>\n",
       "      <td>Graduate</td>\n",
       "      <td>STEM</td>\n",
       "      <td>15</td>\n",
       "      <td>Pvt Ltd</td>\n",
       "      <td>4</td>\n",
       "      <td>47</td>\n",
       "      <td>0</td>\n",
       "    </tr>\n",
       "    <tr>\n",
       "      <th>2</th>\n",
       "      <td>city_21</td>\n",
       "      <td>0.624</td>\n",
       "      <td>Female</td>\n",
       "      <td>No relevent experience</td>\n",
       "      <td>Full time course</td>\n",
       "      <td>Graduate</td>\n",
       "      <td>STEM</td>\n",
       "      <td>5</td>\n",
       "      <td>Early Stage Startup</td>\n",
       "      <td>5</td>\n",
       "      <td>83</td>\n",
       "      <td>0</td>\n",
       "    </tr>\n",
       "    <tr>\n",
       "      <th>3</th>\n",
       "      <td>city_115</td>\n",
       "      <td>0.789</td>\n",
       "      <td>Female</td>\n",
       "      <td>No relevent experience</td>\n",
       "      <td>Part time course</td>\n",
       "      <td>Graduate</td>\n",
       "      <td>Business Degree</td>\n",
       "      <td>1</td>\n",
       "      <td>Pvt Ltd</td>\n",
       "      <td>5</td>\n",
       "      <td>52</td>\n",
       "      <td>1</td>\n",
       "    </tr>\n",
       "    <tr>\n",
       "      <th>4</th>\n",
       "      <td>city_162</td>\n",
       "      <td>0.767</td>\n",
       "      <td>Male</td>\n",
       "      <td>Has relevent experience</td>\n",
       "      <td>no_enrollment</td>\n",
       "      <td>Masters</td>\n",
       "      <td>STEM</td>\n",
       "      <td>20</td>\n",
       "      <td>Funded Startup</td>\n",
       "      <td>4</td>\n",
       "      <td>8</td>\n",
       "      <td>0</td>\n",
       "    </tr>\n",
       "  </tbody>\n",
       "</table>\n",
       "</div>"
      ],
      "text/plain": [
       "       city  city_development_index  gender      relevent_experience  \\\n",
       "0  city_103                   0.920    Male  Has relevent experience   \n",
       "1   city_40                   0.776    Male   No relevent experience   \n",
       "2   city_21                   0.624  Female   No relevent experience   \n",
       "3  city_115                   0.789  Female   No relevent experience   \n",
       "4  city_162                   0.767    Male  Has relevent experience   \n",
       "\n",
       "  enrolled_university education_level major_discipline  experience  \\\n",
       "0       no_enrollment        Graduate             STEM          20   \n",
       "1       no_enrollment        Graduate             STEM          15   \n",
       "2    Full time course        Graduate             STEM           5   \n",
       "3    Part time course        Graduate  Business Degree           1   \n",
       "4       no_enrollment         Masters             STEM          20   \n",
       "\n",
       "          company_type  last_new_job  training_hours  target  \n",
       "0  Early Stage Startup             1              36       1  \n",
       "1              Pvt Ltd             4              47       0  \n",
       "2  Early Stage Startup             5              83       0  \n",
       "3              Pvt Ltd             5              52       1  \n",
       "4       Funded Startup             4               8       0  "
      ]
     },
     "execution_count": 11,
     "metadata": {},
     "output_type": "execute_result"
    }
   ],
   "source": [
    "df.head()"
   ]
  },
  {
   "cell_type": "code",
   "execution_count": 12,
   "id": "ddfd7f0c",
   "metadata": {},
   "outputs": [
    {
     "data": {
      "text/plain": [
       "Text(0.5, 1.0, 'city_development_index distribution')"
      ]
     },
     "execution_count": 12,
     "metadata": {},
     "output_type": "execute_result"
    },
    {
     "data": {
      "image/png": "[encoded data removed]",
      "text/plain": [
       "<Figure size 720x432 with 1 Axes>"
      ]
     },
     "metadata": {
      "needs_background": "light"
     },
     "output_type": "display_data"
    }
   ],
   "source": [
    "plt.figure(figsize=(10,6))\n",
    "plt.grid(True)\n",
    "sns.distplot(df['city_development_index'],color='red')\n",
    "plt.title('city_development_index distribution')"
   ]
  },
  {
   "cell_type": "code",
   "execution_count": 13,
   "id": "70fbf359",
   "metadata": {},
   "outputs": [
    {
     "data": {
      "text/plain": [
       "Male      13221\n",
       "Female     5746\n",
       "Other       191\n",
       "Name: gender, dtype: int64"
      ]
     },
     "execution_count": 13,
     "metadata": {},
     "output_type": "execute_result"
    },
    {
     "data": {
      "image/png": "[encoded data removed]",
      "text/plain": [
       "<Figure size 432x288 with 1 Axes>"
      ]
     },
     "metadata": {
      "needs_background": "light"
     },
     "output_type": "display_data"
    }
   ],
   "source": [
    "sns.countplot(df['gender'])\n",
    "df.gender.value_counts()"
   ]
  },
  {
   "cell_type": "markdown",
   "id": "618dcda4",
   "metadata": {},
   "source": [
    "# The Employees Having Experience or Not ?"
   ]
  },
  {
   "cell_type": "code",
   "execution_count": 14,
   "id": "6fce3861",
   "metadata": {},
   "outputs": [
    {
     "data": {
      "text/plain": [
       "Has relevent experience    13792\n",
       "No relevent experience      5366\n",
       "Name: relevent_experience, dtype: int64"
      ]
     },
     "execution_count": 14,
     "metadata": {},
     "output_type": "execute_result"
    },
    {
     "data": {
      "image/png": "[encoded data removed]",
      "text/plain": [
       "<Figure size 432x288 with 1 Axes>"
      ]
     },
     "metadata": {
      "needs_background": "light"
     },
     "output_type": "display_data"
    }
   ],
   "source": [
    "sns.countplot(df['relevent_experience'])\n",
    "df['relevent_experience'].value_counts()"
   ]
  },
  {
   "cell_type": "markdown",
   "id": "c06a9cf0",
   "metadata": {},
   "source": [
    "# The Employees Having total years of Experience ?"
   ]
  },
  {
   "cell_type": "code",
   "execution_count": 15,
   "id": "6e768d78",
   "metadata": {},
   "outputs": [
    {
     "data": {
      "text/plain": [
       "<AxesSubplot:xlabel='experience', ylabel='count'>"
      ]
     },
     "execution_count": 15,
     "metadata": {},
     "output_type": "execute_result"
    },
    {
     "data": {
      "image/png": "[encoded data removed]",
      "text/plain": [
       "<Figure size 720x432 with 1 Axes>"
      ]
     },
     "metadata": {
      "needs_background": "light"
     },
     "output_type": "display_data"
    }
   ],
   "source": [
    "plt.figure(figsize=(10,6))\n",
    "sns.countplot(df['experience'])"
   ]
  },
  {
   "cell_type": "markdown",
   "id": "66a5b2fd",
   "metadata": {},
   "source": [
    "# In which company type the Employees Work more ?"
   ]
  },
  {
   "cell_type": "code",
   "execution_count": 16,
   "id": "81784e17",
   "metadata": {},
   "outputs": [
    {
     "data": {
      "text/plain": [
       "Pvt Ltd                9817\n",
       "Early Stage Startup    6743\n",
       "Funded Startup         1001\n",
       "Public Sector           955\n",
       "NGO                     521\n",
       "Other                   121\n",
       "Name: company_type, dtype: int64"
      ]
     },
     "execution_count": 16,
     "metadata": {},
     "output_type": "execute_result"
    },
    {
     "data": {
      "image/png": "[encoded data removed]",
      "text/plain": [
       "<Figure size 720x432 with 1 Axes>"
      ]
     },
     "metadata": {
      "needs_background": "light"
     },
     "output_type": "display_data"
    }
   ],
   "source": [
    "plt.figure(figsize=(10,6))\n",
    "sns.countplot(df['company_type'])\n",
    "df['company_type'].value_counts()"
   ]
  },
  {
   "cell_type": "markdown",
   "id": "fa480008",
   "metadata": {},
   "source": [
    "# Education Level of Employees"
   ]
  },
  {
   "cell_type": "code",
   "execution_count": 17,
   "id": "bc4e4278",
   "metadata": {},
   "outputs": [
    {
     "data": {
      "text/plain": [
       "Graduate          11598\n",
       "Masters            4361\n",
       "High School        2017\n",
       "Phd                 874\n",
       "Primary School      308\n",
       "Name: education_level, dtype: int64"
      ]
     },
     "execution_count": 17,
     "metadata": {},
     "output_type": "execute_result"
    },
    {
     "data": {
      "image/png": "[encoded data removed]",
      "text/plain": [
       "<Figure size 576x576 with 1 Axes>"
      ]
     },
     "metadata": {
      "needs_background": "light"
     },
     "output_type": "display_data"
    }
   ],
   "source": [
    "plt.figure(figsize=[8,8])\n",
    "sns.countplot(df['education_level'])\n",
    "df['education_level'].value_counts()"
   ]
  },
  {
   "cell_type": "markdown",
   "id": "520208e7",
   "metadata": {},
   "source": [
    "# Difference in years between previous job and current job of Employees "
   ]
  },
  {
   "cell_type": "code",
   "execution_count": 18,
   "id": "76e32f46",
   "metadata": {},
   "outputs": [
    {
     "data": {
      "text/plain": [
       "<AxesSubplot:xlabel='last_new_job', ylabel='count'>"
      ]
     },
     "execution_count": 18,
     "metadata": {},
     "output_type": "execute_result"
    },
    {
     "data": {
      "image/png": "[encoded data removed]",
      "text/plain": [
       "<Figure size 432x288 with 1 Axes>"
      ]
     },
     "metadata": {
      "needs_background": "light"
     },
     "output_type": "display_data"
    }
   ],
   "source": [
    "sns.countplot(df['last_new_job'])"
   ]
  },
  {
   "cell_type": "markdown",
   "id": "e640fec2",
   "metadata": {},
   "source": [
    "# is the Employees enrolled  University courses ?"
   ]
  },
  {
   "cell_type": "code",
   "execution_count": 19,
   "id": "c6d4b4a7",
   "metadata": {},
   "outputs": [
    {
     "data": {
      "text/plain": [
       "<AxesSubplot:xlabel='enrolled_university', ylabel='count'>"
      ]
     },
     "execution_count": 19,
     "metadata": {},
     "output_type": "execute_result"
    },
    {
     "data": {
      "image/png": "[encoded data removed]",
      "text/plain": [
       "<Figure size 432x288 with 1 Axes>"
      ]
     },
     "metadata": {
      "needs_background": "light"
     },
     "output_type": "display_data"
    }
   ],
   "source": [
    "sns.countplot(df['enrolled_university'])"
   ]
  },
  {
   "cell_type": "markdown",
   "id": "b263629c",
   "metadata": {},
   "source": [
    "# from which educational background employees are more"
   ]
  },
  {
   "cell_type": "code",
   "execution_count": 20,
   "id": "a4f5d830",
   "metadata": {},
   "outputs": [
    {
     "data": {
      "text/plain": [
       "STEM               14492\n",
       "Business Degree     3140\n",
       "Humanities           669\n",
       "Other                381\n",
       "Arts                 253\n",
       "No Major             223\n",
       "Name: major_discipline, dtype: int64"
      ]
     },
     "execution_count": 20,
     "metadata": {},
     "output_type": "execute_result"
    },
    {
     "data": {
      "image/png": "[encoded data removed]",
      "text/plain": [
       "<Figure size 432x288 with 1 Axes>"
      ]
     },
     "metadata": {
      "needs_background": "light"
     },
     "output_type": "display_data"
    }
   ],
   "source": [
    "sns.countplot(df['major_discipline'])\n",
    "df['major_discipline'].value_counts()"
   ]
  },
  {
   "cell_type": "code",
   "execution_count": 21,
   "id": "12fcadaa",
   "metadata": {},
   "outputs": [
    {
     "data": {
      "image/png": "[encoded data removed]",
      "text/plain": [
       "<Figure size 1152x720 with 4 Axes>"
      ]
     },
     "metadata": {
      "needs_background": "light"
     },
     "output_type": "display_data"
    }
   ],
   "source": [
    "fig,axes=plt.subplots(2,2,figsize=(16,10))\n",
    "sns.countplot(data=df,x='experience',hue='target',ax=axes[0,0])\n",
    "sns.countplot(data=df,x='enrolled_university',hue='target',ax=axes[0,1])\n",
    "sns.countplot(data=df,x='education_level',hue='target',ax=axes[1,0])\n",
    "sns.countplot(data=df,x='company_type',hue='target',ax=axes[1,1])\n",
    "plt.show()"
   ]
  },
  {
   "cell_type": "code",
   "execution_count": 22,
   "id": "d4e83ca8",
   "metadata": {},
   "outputs": [
    {
     "data": {
      "text/plain": [
       "<seaborn.axisgrid.FacetGrid at 0x2125601d760>"
      ]
     },
     "execution_count": 22,
     "metadata": {},
     "output_type": "execute_result"
    },
    {
     "data": {
      "image/png": "[encoded data removed]",
      "text/plain": [
       "<Figure size 402.375x360 with 1 Axes>"
      ]
     },
     "metadata": {
      "needs_background": "light"
     },
     "output_type": "display_data"
    }
   ],
   "source": [
    "sns.displot(x ='city_development_index',hue='target',data =df)"
   ]
  },
  {
   "cell_type": "code",
   "execution_count": 23,
   "id": "62957085",
   "metadata": {},
   "outputs": [
    {
     "data": {
      "text/html": [
       "<div>\n",
       "<style scoped>\n",
       "    .dataframe tbody tr th:only-of-type {\n",
       "        vertical-align: middle;\n",
       "    }\n",
       "\n",
       "    .dataframe tbody tr th {\n",
       "        vertical-align: top;\n",
       "    }\n",
       "\n",
       "    .dataframe thead th {\n",
       "        text-align: right;\n",
       "    }\n",
       "</style>\n",
       "<table border=\"1\" class=\"dataframe\">\n",
       "  <thead>\n",
       "    <tr style=\"text-align: right;\">\n",
       "      <th></th>\n",
       "      <th>city</th>\n",
       "      <th>city_development_index</th>\n",
       "      <th>gender</th>\n",
       "      <th>relevent_experience</th>\n",
       "      <th>enrolled_university</th>\n",
       "      <th>education_level</th>\n",
       "      <th>major_discipline</th>\n",
       "      <th>experience</th>\n",
       "      <th>company_type</th>\n",
       "      <th>last_new_job</th>\n",
       "      <th>training_hours</th>\n",
       "      <th>target</th>\n",
       "    </tr>\n",
       "  </thead>\n",
       "  <tbody>\n",
       "    <tr>\n",
       "      <th>0</th>\n",
       "      <td>city_103</td>\n",
       "      <td>0.920</td>\n",
       "      <td>Male</td>\n",
       "      <td>Has relevent experience</td>\n",
       "      <td>no_enrollment</td>\n",
       "      <td>Graduate</td>\n",
       "      <td>STEM</td>\n",
       "      <td>20</td>\n",
       "      <td>Early Stage Startup</td>\n",
       "      <td>1</td>\n",
       "      <td>36</td>\n",
       "      <td>1</td>\n",
       "    </tr>\n",
       "    <tr>\n",
       "      <th>1</th>\n",
       "      <td>city_40</td>\n",
       "      <td>0.776</td>\n",
       "      <td>Male</td>\n",
       "      <td>No relevent experience</td>\n",
       "      <td>no_enrollment</td>\n",
       "      <td>Graduate</td>\n",
       "      <td>STEM</td>\n",
       "      <td>15</td>\n",
       "      <td>Pvt Ltd</td>\n",
       "      <td>4</td>\n",
       "      <td>47</td>\n",
       "      <td>0</td>\n",
       "    </tr>\n",
       "    <tr>\n",
       "      <th>2</th>\n",
       "      <td>city_21</td>\n",
       "      <td>0.624</td>\n",
       "      <td>Female</td>\n",
       "      <td>No relevent experience</td>\n",
       "      <td>Full time course</td>\n",
       "      <td>Graduate</td>\n",
       "      <td>STEM</td>\n",
       "      <td>5</td>\n",
       "      <td>Early Stage Startup</td>\n",
       "      <td>5</td>\n",
       "      <td>83</td>\n",
       "      <td>0</td>\n",
       "    </tr>\n",
       "    <tr>\n",
       "      <th>3</th>\n",
       "      <td>city_115</td>\n",
       "      <td>0.789</td>\n",
       "      <td>Female</td>\n",
       "      <td>No relevent experience</td>\n",
       "      <td>Part time course</td>\n",
       "      <td>Graduate</td>\n",
       "      <td>Business Degree</td>\n",
       "      <td>1</td>\n",
       "      <td>Pvt Ltd</td>\n",
       "      <td>5</td>\n",
       "      <td>52</td>\n",
       "      <td>1</td>\n",
       "    </tr>\n",
       "    <tr>\n",
       "      <th>4</th>\n",
       "      <td>city_162</td>\n",
       "      <td>0.767</td>\n",
       "      <td>Male</td>\n",
       "      <td>Has relevent experience</td>\n",
       "      <td>no_enrollment</td>\n",
       "      <td>Masters</td>\n",
       "      <td>STEM</td>\n",
       "      <td>20</td>\n",
       "      <td>Funded Startup</td>\n",
       "      <td>4</td>\n",
       "      <td>8</td>\n",
       "      <td>0</td>\n",
       "    </tr>\n",
       "  </tbody>\n",
       "</table>\n",
       "</div>"
      ],
      "text/plain": [
       "       city  city_development_index  gender      relevent_experience  \\\n",
       "0  city_103                   0.920    Male  Has relevent experience   \n",
       "1   city_40                   0.776    Male   No relevent experience   \n",
       "2   city_21                   0.624  Female   No relevent experience   \n",
       "3  city_115                   0.789  Female   No relevent experience   \n",
       "4  city_162                   0.767    Male  Has relevent experience   \n",
       "\n",
       "  enrolled_university education_level major_discipline  experience  \\\n",
       "0       no_enrollment        Graduate             STEM          20   \n",
       "1       no_enrollment        Graduate             STEM          15   \n",
       "2    Full time course        Graduate             STEM           5   \n",
       "3    Part time course        Graduate  Business Degree           1   \n",
       "4       no_enrollment         Masters             STEM          20   \n",
       "\n",
       "          company_type  last_new_job  training_hours  target  \n",
       "0  Early Stage Startup             1              36       1  \n",
       "1              Pvt Ltd             4              47       0  \n",
       "2  Early Stage Startup             5              83       0  \n",
       "3              Pvt Ltd             5              52       1  \n",
       "4       Funded Startup             4               8       0  "
      ]
     },
     "execution_count": 23,
     "metadata": {},
     "output_type": "execute_result"
    }
   ],
   "source": [
    "df.head()"
   ]
  },
  {
   "cell_type": "code",
   "execution_count": 24,
   "id": "2bca94fb",
   "metadata": {},
   "outputs": [],
   "source": [
    "df_cat=df.select_dtypes(object)\n",
    "df_num=df.select_dtypes(['int64','float','int32'])"
   ]
  },
  {
   "cell_type": "code",
   "execution_count": 25,
   "id": "b5121125",
   "metadata": {},
   "outputs": [
    {
     "data": {
      "text/html": [
       "<div>\n",
       "<style scoped>\n",
       "    .dataframe tbody tr th:only-of-type {\n",
       "        vertical-align: middle;\n",
       "    }\n",
       "\n",
       "    .dataframe tbody tr th {\n",
       "        vertical-align: top;\n",
       "    }\n",
       "\n",
       "    .dataframe thead th {\n",
       "        text-align: right;\n",
       "    }\n",
       "</style>\n",
       "<table border=\"1\" class=\"dataframe\">\n",
       "  <thead>\n",
       "    <tr style=\"text-align: right;\">\n",
       "      <th></th>\n",
       "      <th>city</th>\n",
       "      <th>gender</th>\n",
       "      <th>relevent_experience</th>\n",
       "      <th>enrolled_university</th>\n",
       "      <th>education_level</th>\n",
       "      <th>major_discipline</th>\n",
       "      <th>company_type</th>\n",
       "    </tr>\n",
       "  </thead>\n",
       "  <tbody>\n",
       "    <tr>\n",
       "      <th>0</th>\n",
       "      <td>city_103</td>\n",
       "      <td>Male</td>\n",
       "      <td>Has relevent experience</td>\n",
       "      <td>no_enrollment</td>\n",
       "      <td>Graduate</td>\n",
       "      <td>STEM</td>\n",
       "      <td>Early Stage Startup</td>\n",
       "    </tr>\n",
       "    <tr>\n",
       "      <th>1</th>\n",
       "      <td>city_40</td>\n",
       "      <td>Male</td>\n",
       "      <td>No relevent experience</td>\n",
       "      <td>no_enrollment</td>\n",
       "      <td>Graduate</td>\n",
       "      <td>STEM</td>\n",
       "      <td>Pvt Ltd</td>\n",
       "    </tr>\n",
       "    <tr>\n",
       "      <th>2</th>\n",
       "      <td>city_21</td>\n",
       "      <td>Female</td>\n",
       "      <td>No relevent experience</td>\n",
       "      <td>Full time course</td>\n",
       "      <td>Graduate</td>\n",
       "      <td>STEM</td>\n",
       "      <td>Early Stage Startup</td>\n",
       "    </tr>\n",
       "    <tr>\n",
       "      <th>3</th>\n",
       "      <td>city_115</td>\n",
       "      <td>Female</td>\n",
       "      <td>No relevent experience</td>\n",
       "      <td>Part time course</td>\n",
       "      <td>Graduate</td>\n",
       "      <td>Business Degree</td>\n",
       "      <td>Pvt Ltd</td>\n",
       "    </tr>\n",
       "    <tr>\n",
       "      <th>4</th>\n",
       "      <td>city_162</td>\n",
       "      <td>Male</td>\n",
       "      <td>Has relevent experience</td>\n",
       "      <td>no_enrollment</td>\n",
       "      <td>Masters</td>\n",
       "      <td>STEM</td>\n",
       "      <td>Funded Startup</td>\n",
       "    </tr>\n",
       "  </tbody>\n",
       "</table>\n",
       "</div>"
      ],
      "text/plain": [
       "       city  gender      relevent_experience enrolled_university  \\\n",
       "0  city_103    Male  Has relevent experience       no_enrollment   \n",
       "1   city_40    Male   No relevent experience       no_enrollment   \n",
       "2   city_21  Female   No relevent experience    Full time course   \n",
       "3  city_115  Female   No relevent experience    Part time course   \n",
       "4  city_162    Male  Has relevent experience       no_enrollment   \n",
       "\n",
       "  education_level major_discipline         company_type  \n",
       "0        Graduate             STEM  Early Stage Startup  \n",
       "1        Graduate             STEM              Pvt Ltd  \n",
       "2        Graduate             STEM  Early Stage Startup  \n",
       "3        Graduate  Business Degree              Pvt Ltd  \n",
       "4         Masters             STEM       Funded Startup  "
      ]
     },
     "execution_count": 25,
     "metadata": {},
     "output_type": "execute_result"
    }
   ],
   "source": [
    "df_cat.head()"
   ]
  },
  {
   "cell_type": "code",
   "execution_count": 26,
   "id": "357c5b13",
   "metadata": {},
   "outputs": [],
   "source": [
    "df_cat.drop(['city'],axis=1,inplace=True)\n",
    "df_num.drop(['city_development_index'],axis=1,inplace=True)"
   ]
  },
  {
   "cell_type": "code",
   "execution_count": 27,
   "id": "9b62970e",
   "metadata": {},
   "outputs": [],
   "source": [
    "from sklearn.preprocessing import LabelEncoder"
   ]
  },
  {
   "cell_type": "code",
   "execution_count": 28,
   "id": "d62dac77",
   "metadata": {},
   "outputs": [],
   "source": [
    "for col in df_cat:\n",
    "    le=LabelEncoder()\n",
    "    df_cat[col]=le.fit_transform(df_cat[col])"
   ]
  },
  {
   "cell_type": "code",
   "execution_count": 29,
   "id": "6af15915",
   "metadata": {},
   "outputs": [
    {
     "data": {
      "text/html": [
       "<div>\n",
       "<style scoped>\n",
       "    .dataframe tbody tr th:only-of-type {\n",
       "        vertical-align: middle;\n",
       "    }\n",
       "\n",
       "    .dataframe tbody tr th {\n",
       "        vertical-align: top;\n",
       "    }\n",
       "\n",
       "    .dataframe thead th {\n",
       "        text-align: right;\n",
       "    }\n",
       "</style>\n",
       "<table border=\"1\" class=\"dataframe\">\n",
       "  <thead>\n",
       "    <tr style=\"text-align: right;\">\n",
       "      <th></th>\n",
       "      <th>gender</th>\n",
       "      <th>relevent_experience</th>\n",
       "      <th>enrolled_university</th>\n",
       "      <th>education_level</th>\n",
       "      <th>major_discipline</th>\n",
       "      <th>company_type</th>\n",
       "    </tr>\n",
       "  </thead>\n",
       "  <tbody>\n",
       "    <tr>\n",
       "      <th>0</th>\n",
       "      <td>1</td>\n",
       "      <td>0</td>\n",
       "      <td>2</td>\n",
       "      <td>0</td>\n",
       "      <td>5</td>\n",
       "      <td>0</td>\n",
       "    </tr>\n",
       "    <tr>\n",
       "      <th>1</th>\n",
       "      <td>1</td>\n",
       "      <td>1</td>\n",
       "      <td>2</td>\n",
       "      <td>0</td>\n",
       "      <td>5</td>\n",
       "      <td>5</td>\n",
       "    </tr>\n",
       "    <tr>\n",
       "      <th>2</th>\n",
       "      <td>0</td>\n",
       "      <td>1</td>\n",
       "      <td>0</td>\n",
       "      <td>0</td>\n",
       "      <td>5</td>\n",
       "      <td>0</td>\n",
       "    </tr>\n",
       "    <tr>\n",
       "      <th>3</th>\n",
       "      <td>0</td>\n",
       "      <td>1</td>\n",
       "      <td>1</td>\n",
       "      <td>0</td>\n",
       "      <td>1</td>\n",
       "      <td>5</td>\n",
       "    </tr>\n",
       "    <tr>\n",
       "      <th>4</th>\n",
       "      <td>1</td>\n",
       "      <td>0</td>\n",
       "      <td>2</td>\n",
       "      <td>2</td>\n",
       "      <td>5</td>\n",
       "      <td>1</td>\n",
       "    </tr>\n",
       "    <tr>\n",
       "      <th>...</th>\n",
       "      <td>...</td>\n",
       "      <td>...</td>\n",
       "      <td>...</td>\n",
       "      <td>...</td>\n",
       "      <td>...</td>\n",
       "      <td>...</td>\n",
       "    </tr>\n",
       "    <tr>\n",
       "      <th>19153</th>\n",
       "      <td>1</td>\n",
       "      <td>1</td>\n",
       "      <td>2</td>\n",
       "      <td>0</td>\n",
       "      <td>2</td>\n",
       "      <td>0</td>\n",
       "    </tr>\n",
       "    <tr>\n",
       "      <th>19154</th>\n",
       "      <td>1</td>\n",
       "      <td>0</td>\n",
       "      <td>2</td>\n",
       "      <td>0</td>\n",
       "      <td>5</td>\n",
       "      <td>0</td>\n",
       "    </tr>\n",
       "    <tr>\n",
       "      <th>19155</th>\n",
       "      <td>1</td>\n",
       "      <td>0</td>\n",
       "      <td>2</td>\n",
       "      <td>0</td>\n",
       "      <td>5</td>\n",
       "      <td>5</td>\n",
       "    </tr>\n",
       "    <tr>\n",
       "      <th>19156</th>\n",
       "      <td>1</td>\n",
       "      <td>0</td>\n",
       "      <td>2</td>\n",
       "      <td>1</td>\n",
       "      <td>1</td>\n",
       "      <td>5</td>\n",
       "    </tr>\n",
       "    <tr>\n",
       "      <th>19157</th>\n",
       "      <td>0</td>\n",
       "      <td>1</td>\n",
       "      <td>2</td>\n",
       "      <td>4</td>\n",
       "      <td>1</td>\n",
       "      <td>0</td>\n",
       "    </tr>\n",
       "  </tbody>\n",
       "</table>\n",
       "<p>19158 rows × 6 columns</p>\n",
       "</div>"
      ],
      "text/plain": [
       "       gender  relevent_experience  enrolled_university  education_level  \\\n",
       "0           1                    0                    2                0   \n",
       "1           1                    1                    2                0   \n",
       "2           0                    1                    0                0   \n",
       "3           0                    1                    1                0   \n",
       "4           1                    0                    2                2   \n",
       "...       ...                  ...                  ...              ...   \n",
       "19153       1                    1                    2                0   \n",
       "19154       1                    0                    2                0   \n",
       "19155       1                    0                    2                0   \n",
       "19156       1                    0                    2                1   \n",
       "19157       0                    1                    2                4   \n",
       "\n",
       "       major_discipline  company_type  \n",
       "0                     5             0  \n",
       "1                     5             5  \n",
       "2                     5             0  \n",
       "3                     1             5  \n",
       "4                     5             1  \n",
       "...                 ...           ...  \n",
       "19153                 2             0  \n",
       "19154                 5             0  \n",
       "19155                 5             5  \n",
       "19156                 1             5  \n",
       "19157                 1             0  \n",
       "\n",
       "[19158 rows x 6 columns]"
      ]
     },
     "execution_count": 29,
     "metadata": {},
     "output_type": "execute_result"
    }
   ],
   "source": [
    "df_cat"
   ]
  },
  {
   "cell_type": "code",
   "execution_count": 30,
   "id": "5b4a3f8e",
   "metadata": {},
   "outputs": [
    {
     "data": {
      "text/html": [
       "<div>\n",
       "<style scoped>\n",
       "    .dataframe tbody tr th:only-of-type {\n",
       "        vertical-align: middle;\n",
       "    }\n",
       "\n",
       "    .dataframe tbody tr th {\n",
       "        vertical-align: top;\n",
       "    }\n",
       "\n",
       "    .dataframe thead th {\n",
       "        text-align: right;\n",
       "    }\n",
       "</style>\n",
       "<table border=\"1\" class=\"dataframe\">\n",
       "  <thead>\n",
       "    <tr style=\"text-align: right;\">\n",
       "      <th></th>\n",
       "      <th>experience</th>\n",
       "      <th>last_new_job</th>\n",
       "      <th>training_hours</th>\n",
       "      <th>target</th>\n",
       "    </tr>\n",
       "  </thead>\n",
       "  <tbody>\n",
       "    <tr>\n",
       "      <th>0</th>\n",
       "      <td>20</td>\n",
       "      <td>1</td>\n",
       "      <td>36</td>\n",
       "      <td>1</td>\n",
       "    </tr>\n",
       "    <tr>\n",
       "      <th>1</th>\n",
       "      <td>15</td>\n",
       "      <td>4</td>\n",
       "      <td>47</td>\n",
       "      <td>0</td>\n",
       "    </tr>\n",
       "    <tr>\n",
       "      <th>2</th>\n",
       "      <td>5</td>\n",
       "      <td>5</td>\n",
       "      <td>83</td>\n",
       "      <td>0</td>\n",
       "    </tr>\n",
       "    <tr>\n",
       "      <th>3</th>\n",
       "      <td>1</td>\n",
       "      <td>5</td>\n",
       "      <td>52</td>\n",
       "      <td>1</td>\n",
       "    </tr>\n",
       "    <tr>\n",
       "      <th>4</th>\n",
       "      <td>20</td>\n",
       "      <td>4</td>\n",
       "      <td>8</td>\n",
       "      <td>0</td>\n",
       "    </tr>\n",
       "    <tr>\n",
       "      <th>...</th>\n",
       "      <td>...</td>\n",
       "      <td>...</td>\n",
       "      <td>...</td>\n",
       "      <td>...</td>\n",
       "    </tr>\n",
       "    <tr>\n",
       "      <th>19153</th>\n",
       "      <td>14</td>\n",
       "      <td>1</td>\n",
       "      <td>42</td>\n",
       "      <td>1</td>\n",
       "    </tr>\n",
       "    <tr>\n",
       "      <th>19154</th>\n",
       "      <td>14</td>\n",
       "      <td>4</td>\n",
       "      <td>52</td>\n",
       "      <td>1</td>\n",
       "    </tr>\n",
       "    <tr>\n",
       "      <th>19155</th>\n",
       "      <td>20</td>\n",
       "      <td>4</td>\n",
       "      <td>44</td>\n",
       "      <td>0</td>\n",
       "    </tr>\n",
       "    <tr>\n",
       "      <th>19156</th>\n",
       "      <td>1</td>\n",
       "      <td>2</td>\n",
       "      <td>97</td>\n",
       "      <td>0</td>\n",
       "    </tr>\n",
       "    <tr>\n",
       "      <th>19157</th>\n",
       "      <td>2</td>\n",
       "      <td>1</td>\n",
       "      <td>127</td>\n",
       "      <td>0</td>\n",
       "    </tr>\n",
       "  </tbody>\n",
       "</table>\n",
       "<p>19158 rows × 4 columns</p>\n",
       "</div>"
      ],
      "text/plain": [
       "       experience  last_new_job  training_hours  target\n",
       "0              20             1              36       1\n",
       "1              15             4              47       0\n",
       "2               5             5              83       0\n",
       "3               1             5              52       1\n",
       "4              20             4               8       0\n",
       "...           ...           ...             ...     ...\n",
       "19153          14             1              42       1\n",
       "19154          14             4              52       1\n",
       "19155          20             4              44       0\n",
       "19156           1             2              97       0\n",
       "19157           2             1             127       0\n",
       "\n",
       "[19158 rows x 4 columns]"
      ]
     },
     "execution_count": 30,
     "metadata": {},
     "output_type": "execute_result"
    }
   ],
   "source": [
    "df_num"
   ]
  },
  {
   "cell_type": "code",
   "execution_count": 31,
   "id": "572e3cea",
   "metadata": {},
   "outputs": [],
   "source": [
    "df1=pd.concat([df_cat,df_num],axis=1)"
   ]
  },
  {
   "cell_type": "code",
   "execution_count": 32,
   "id": "491feee8",
   "metadata": {},
   "outputs": [
    {
     "data": {
      "text/html": [
       "<div>\n",
       "<style scoped>\n",
       "    .dataframe tbody tr th:only-of-type {\n",
       "        vertical-align: middle;\n",
       "    }\n",
       "\n",
       "    .dataframe tbody tr th {\n",
       "        vertical-align: top;\n",
       "    }\n",
       "\n",
       "    .dataframe thead th {\n",
       "        text-align: right;\n",
       "    }\n",
       "</style>\n",
       "<table border=\"1\" class=\"dataframe\">\n",
       "  <thead>\n",
       "    <tr style=\"text-align: right;\">\n",
       "      <th></th>\n",
       "      <th>gender</th>\n",
       "      <th>relevent_experience</th>\n",
       "      <th>enrolled_university</th>\n",
       "      <th>education_level</th>\n",
       "      <th>major_discipline</th>\n",
       "      <th>company_type</th>\n",
       "      <th>experience</th>\n",
       "      <th>last_new_job</th>\n",
       "      <th>training_hours</th>\n",
       "      <th>target</th>\n",
       "    </tr>\n",
       "  </thead>\n",
       "  <tbody>\n",
       "    <tr>\n",
       "      <th>0</th>\n",
       "      <td>1</td>\n",
       "      <td>0</td>\n",
       "      <td>2</td>\n",
       "      <td>0</td>\n",
       "      <td>5</td>\n",
       "      <td>0</td>\n",
       "      <td>20</td>\n",
       "      <td>1</td>\n",
       "      <td>36</td>\n",
       "      <td>1</td>\n",
       "    </tr>\n",
       "    <tr>\n",
       "      <th>1</th>\n",
       "      <td>1</td>\n",
       "      <td>1</td>\n",
       "      <td>2</td>\n",
       "      <td>0</td>\n",
       "      <td>5</td>\n",
       "      <td>5</td>\n",
       "      <td>15</td>\n",
       "      <td>4</td>\n",
       "      <td>47</td>\n",
       "      <td>0</td>\n",
       "    </tr>\n",
       "    <tr>\n",
       "      <th>2</th>\n",
       "      <td>0</td>\n",
       "      <td>1</td>\n",
       "      <td>0</td>\n",
       "      <td>0</td>\n",
       "      <td>5</td>\n",
       "      <td>0</td>\n",
       "      <td>5</td>\n",
       "      <td>5</td>\n",
       "      <td>83</td>\n",
       "      <td>0</td>\n",
       "    </tr>\n",
       "    <tr>\n",
       "      <th>3</th>\n",
       "      <td>0</td>\n",
       "      <td>1</td>\n",
       "      <td>1</td>\n",
       "      <td>0</td>\n",
       "      <td>1</td>\n",
       "      <td>5</td>\n",
       "      <td>1</td>\n",
       "      <td>5</td>\n",
       "      <td>52</td>\n",
       "      <td>1</td>\n",
       "    </tr>\n",
       "    <tr>\n",
       "      <th>4</th>\n",
       "      <td>1</td>\n",
       "      <td>0</td>\n",
       "      <td>2</td>\n",
       "      <td>2</td>\n",
       "      <td>5</td>\n",
       "      <td>1</td>\n",
       "      <td>20</td>\n",
       "      <td>4</td>\n",
       "      <td>8</td>\n",
       "      <td>0</td>\n",
       "    </tr>\n",
       "    <tr>\n",
       "      <th>...</th>\n",
       "      <td>...</td>\n",
       "      <td>...</td>\n",
       "      <td>...</td>\n",
       "      <td>...</td>\n",
       "      <td>...</td>\n",
       "      <td>...</td>\n",
       "      <td>...</td>\n",
       "      <td>...</td>\n",
       "      <td>...</td>\n",
       "      <td>...</td>\n",
       "    </tr>\n",
       "    <tr>\n",
       "      <th>19153</th>\n",
       "      <td>1</td>\n",
       "      <td>1</td>\n",
       "      <td>2</td>\n",
       "      <td>0</td>\n",
       "      <td>2</td>\n",
       "      <td>0</td>\n",
       "      <td>14</td>\n",
       "      <td>1</td>\n",
       "      <td>42</td>\n",
       "      <td>1</td>\n",
       "    </tr>\n",
       "    <tr>\n",
       "      <th>19154</th>\n",
       "      <td>1</td>\n",
       "      <td>0</td>\n",
       "      <td>2</td>\n",
       "      <td>0</td>\n",
       "      <td>5</td>\n",
       "      <td>0</td>\n",
       "      <td>14</td>\n",
       "      <td>4</td>\n",
       "      <td>52</td>\n",
       "      <td>1</td>\n",
       "    </tr>\n",
       "    <tr>\n",
       "      <th>19155</th>\n",
       "      <td>1</td>\n",
       "      <td>0</td>\n",
       "      <td>2</td>\n",
       "      <td>0</td>\n",
       "      <td>5</td>\n",
       "      <td>5</td>\n",
       "      <td>20</td>\n",
       "      <td>4</td>\n",
       "      <td>44</td>\n",
       "      <td>0</td>\n",
       "    </tr>\n",
       "    <tr>\n",
       "      <th>19156</th>\n",
       "      <td>1</td>\n",
       "      <td>0</td>\n",
       "      <td>2</td>\n",
       "      <td>1</td>\n",
       "      <td>1</td>\n",
       "      <td>5</td>\n",
       "      <td>1</td>\n",
       "      <td>2</td>\n",
       "      <td>97</td>\n",
       "      <td>0</td>\n",
       "    </tr>\n",
       "    <tr>\n",
       "      <th>19157</th>\n",
       "      <td>0</td>\n",
       "      <td>1</td>\n",
       "      <td>2</td>\n",
       "      <td>4</td>\n",
       "      <td>1</td>\n",
       "      <td>0</td>\n",
       "      <td>2</td>\n",
       "      <td>1</td>\n",
       "      <td>127</td>\n",
       "      <td>0</td>\n",
       "    </tr>\n",
       "  </tbody>\n",
       "</table>\n",
       "<p>19158 rows × 10 columns</p>\n",
       "</div>"
      ],
      "text/plain": [
       "       gender  relevent_experience  enrolled_university  education_level  \\\n",
       "0           1                    0                    2                0   \n",
       "1           1                    1                    2                0   \n",
       "2           0                    1                    0                0   \n",
       "3           0                    1                    1                0   \n",
       "4           1                    0                    2                2   \n",
       "...       ...                  ...                  ...              ...   \n",
       "19153       1                    1                    2                0   \n",
       "19154       1                    0                    2                0   \n",
       "19155       1                    0                    2                0   \n",
       "19156       1                    0                    2                1   \n",
       "19157       0                    1                    2                4   \n",
       "\n",
       "       major_discipline  company_type  experience  last_new_job  \\\n",
       "0                     5             0          20             1   \n",
       "1                     5             5          15             4   \n",
       "2                     5             0           5             5   \n",
       "3                     1             5           1             5   \n",
       "4                     5             1          20             4   \n",
       "...                 ...           ...         ...           ...   \n",
       "19153                 2             0          14             1   \n",
       "19154                 5             0          14             4   \n",
       "19155                 5             5          20             4   \n",
       "19156                 1             5           1             2   \n",
       "19157                 1             0           2             1   \n",
       "\n",
       "       training_hours  target  \n",
       "0                  36       1  \n",
       "1                  47       0  \n",
       "2                  83       0  \n",
       "3                  52       1  \n",
       "4                   8       0  \n",
       "...               ...     ...  \n",
       "19153              42       1  \n",
       "19154              52       1  \n",
       "19155              44       0  \n",
       "19156              97       0  \n",
       "19157             127       0  \n",
       "\n",
       "[19158 rows x 10 columns]"
      ]
     },
     "execution_count": 32,
     "metadata": {},
     "output_type": "execute_result"
    }
   ],
   "source": [
    "df1"
   ]
  },
  {
   "cell_type": "code",
   "execution_count": 33,
   "id": "cd97dab8",
   "metadata": {},
   "outputs": [],
   "source": [
    "x = df1.iloc[:, :-1]\n",
    "y = df1.iloc[:,-1]"
   ]
  },
  {
   "cell_type": "code",
   "execution_count": 34,
   "id": "20ee1794",
   "metadata": {},
   "outputs": [
    {
     "data": {
      "text/html": [
       "<div>\n",
       "<style scoped>\n",
       "    .dataframe tbody tr th:only-of-type {\n",
       "        vertical-align: middle;\n",
       "    }\n",
       "\n",
       "    .dataframe tbody tr th {\n",
       "        vertical-align: top;\n",
       "    }\n",
       "\n",
       "    .dataframe thead th {\n",
       "        text-align: right;\n",
       "    }\n",
       "</style>\n",
       "<table border=\"1\" class=\"dataframe\">\n",
       "  <thead>\n",
       "    <tr style=\"text-align: right;\">\n",
       "      <th></th>\n",
       "      <th>gender</th>\n",
       "      <th>relevent_experience</th>\n",
       "      <th>enrolled_university</th>\n",
       "      <th>education_level</th>\n",
       "      <th>major_discipline</th>\n",
       "      <th>company_type</th>\n",
       "      <th>experience</th>\n",
       "      <th>last_new_job</th>\n",
       "      <th>training_hours</th>\n",
       "    </tr>\n",
       "  </thead>\n",
       "  <tbody>\n",
       "    <tr>\n",
       "      <th>0</th>\n",
       "      <td>1</td>\n",
       "      <td>0</td>\n",
       "      <td>2</td>\n",
       "      <td>0</td>\n",
       "      <td>5</td>\n",
       "      <td>0</td>\n",
       "      <td>20</td>\n",
       "      <td>1</td>\n",
       "      <td>36</td>\n",
       "    </tr>\n",
       "    <tr>\n",
       "      <th>1</th>\n",
       "      <td>1</td>\n",
       "      <td>1</td>\n",
       "      <td>2</td>\n",
       "      <td>0</td>\n",
       "      <td>5</td>\n",
       "      <td>5</td>\n",
       "      <td>15</td>\n",
       "      <td>4</td>\n",
       "      <td>47</td>\n",
       "    </tr>\n",
       "    <tr>\n",
       "      <th>2</th>\n",
       "      <td>0</td>\n",
       "      <td>1</td>\n",
       "      <td>0</td>\n",
       "      <td>0</td>\n",
       "      <td>5</td>\n",
       "      <td>0</td>\n",
       "      <td>5</td>\n",
       "      <td>5</td>\n",
       "      <td>83</td>\n",
       "    </tr>\n",
       "    <tr>\n",
       "      <th>3</th>\n",
       "      <td>0</td>\n",
       "      <td>1</td>\n",
       "      <td>1</td>\n",
       "      <td>0</td>\n",
       "      <td>1</td>\n",
       "      <td>5</td>\n",
       "      <td>1</td>\n",
       "      <td>5</td>\n",
       "      <td>52</td>\n",
       "    </tr>\n",
       "    <tr>\n",
       "      <th>4</th>\n",
       "      <td>1</td>\n",
       "      <td>0</td>\n",
       "      <td>2</td>\n",
       "      <td>2</td>\n",
       "      <td>5</td>\n",
       "      <td>1</td>\n",
       "      <td>20</td>\n",
       "      <td>4</td>\n",
       "      <td>8</td>\n",
       "    </tr>\n",
       "    <tr>\n",
       "      <th>...</th>\n",
       "      <td>...</td>\n",
       "      <td>...</td>\n",
       "      <td>...</td>\n",
       "      <td>...</td>\n",
       "      <td>...</td>\n",
       "      <td>...</td>\n",
       "      <td>...</td>\n",
       "      <td>...</td>\n",
       "      <td>...</td>\n",
       "    </tr>\n",
       "    <tr>\n",
       "      <th>19153</th>\n",
       "      <td>1</td>\n",
       "      <td>1</td>\n",
       "      <td>2</td>\n",
       "      <td>0</td>\n",
       "      <td>2</td>\n",
       "      <td>0</td>\n",
       "      <td>14</td>\n",
       "      <td>1</td>\n",
       "      <td>42</td>\n",
       "    </tr>\n",
       "    <tr>\n",
       "      <th>19154</th>\n",
       "      <td>1</td>\n",
       "      <td>0</td>\n",
       "      <td>2</td>\n",
       "      <td>0</td>\n",
       "      <td>5</td>\n",
       "      <td>0</td>\n",
       "      <td>14</td>\n",
       "      <td>4</td>\n",
       "      <td>52</td>\n",
       "    </tr>\n",
       "    <tr>\n",
       "      <th>19155</th>\n",
       "      <td>1</td>\n",
       "      <td>0</td>\n",
       "      <td>2</td>\n",
       "      <td>0</td>\n",
       "      <td>5</td>\n",
       "      <td>5</td>\n",
       "      <td>20</td>\n",
       "      <td>4</td>\n",
       "      <td>44</td>\n",
       "    </tr>\n",
       "    <tr>\n",
       "      <th>19156</th>\n",
       "      <td>1</td>\n",
       "      <td>0</td>\n",
       "      <td>2</td>\n",
       "      <td>1</td>\n",
       "      <td>1</td>\n",
       "      <td>5</td>\n",
       "      <td>1</td>\n",
       "      <td>2</td>\n",
       "      <td>97</td>\n",
       "    </tr>\n",
       "    <tr>\n",
       "      <th>19157</th>\n",
       "      <td>0</td>\n",
       "      <td>1</td>\n",
       "      <td>2</td>\n",
       "      <td>4</td>\n",
       "      <td>1</td>\n",
       "      <td>0</td>\n",
       "      <td>2</td>\n",
       "      <td>1</td>\n",
       "      <td>127</td>\n",
       "    </tr>\n",
       "  </tbody>\n",
       "</table>\n",
       "<p>19158 rows × 9 columns</p>\n",
       "</div>"
      ],
      "text/plain": [
       "       gender  relevent_experience  enrolled_university  education_level  \\\n",
       "0           1                    0                    2                0   \n",
       "1           1                    1                    2                0   \n",
       "2           0                    1                    0                0   \n",
       "3           0                    1                    1                0   \n",
       "4           1                    0                    2                2   \n",
       "...       ...                  ...                  ...              ...   \n",
       "19153       1                    1                    2                0   \n",
       "19154       1                    0                    2                0   \n",
       "19155       1                    0                    2                0   \n",
       "19156       1                    0                    2                1   \n",
       "19157       0                    1                    2                4   \n",
       "\n",
       "       major_discipline  company_type  experience  last_new_job  \\\n",
       "0                     5             0          20             1   \n",
       "1                     5             5          15             4   \n",
       "2                     5             0           5             5   \n",
       "3                     1             5           1             5   \n",
       "4                     5             1          20             4   \n",
       "...                 ...           ...         ...           ...   \n",
       "19153                 2             0          14             1   \n",
       "19154                 5             0          14             4   \n",
       "19155                 5             5          20             4   \n",
       "19156                 1             5           1             2   \n",
       "19157                 1             0           2             1   \n",
       "\n",
       "       training_hours  \n",
       "0                  36  \n",
       "1                  47  \n",
       "2                  83  \n",
       "3                  52  \n",
       "4                   8  \n",
       "...               ...  \n",
       "19153              42  \n",
       "19154              52  \n",
       "19155              44  \n",
       "19156              97  \n",
       "19157             127  \n",
       "\n",
       "[19158 rows x 9 columns]"
      ]
     },
     "execution_count": 34,
     "metadata": {},
     "output_type": "execute_result"
    }
   ],
   "source": [
    "x"
   ]
  },
  {
   "cell_type": "code",
   "execution_count": 35,
   "id": "1233e3f1",
   "metadata": {},
   "outputs": [
    {
     "data": {
      "text/plain": [
       "0        1\n",
       "1        0\n",
       "2        0\n",
       "3        1\n",
       "4        0\n",
       "        ..\n",
       "19153    1\n",
       "19154    1\n",
       "19155    0\n",
       "19156    0\n",
       "19157    0\n",
       "Name: target, Length: 19158, dtype: int32"
      ]
     },
     "execution_count": 35,
     "metadata": {},
     "output_type": "execute_result"
    }
   ],
   "source": [
    "y"
   ]
  },
  {
   "cell_type": "code",
   "execution_count": 36,
   "id": "4b4031c5",
   "metadata": {},
   "outputs": [],
   "source": [
    "xtrain, xtest, ytrain, ytest = train_test_split(x,y, test_size=0.5, random_state=1)"
   ]
  },
  {
   "cell_type": "code",
   "execution_count": 37,
   "id": "58745a65",
   "metadata": {},
   "outputs": [],
   "source": [
    "def mymodel(model):\n",
    "    model.fit(xtrain, ytrain)\n",
    "    ypred = model.predict(xtest)\n",
    "    print(accuracy_score(ytest, ypred))\n",
    "    print(classification_report(ytest, ypred))"
   ]
  },
  {
   "cell_type": "code",
   "execution_count": 38,
   "id": "41e7c766",
   "metadata": {},
   "outputs": [],
   "source": [
    "logreg = LogisticRegression()\n",
    "knn = KNeighborsClassifier()\n",
    "svm = SVC()\n",
    "dt=DecisionTreeClassifier()"
   ]
  },
  {
   "cell_type": "code",
   "execution_count": 39,
   "id": "92bf5a87",
   "metadata": {},
   "outputs": [
    {
     "name": "stdout",
     "output_type": "stream",
     "text": [
      "0.7620837248146988\n",
      "              precision    recall  f1-score   support\n",
      "\n",
      "           0       0.77      0.97      0.86      7223\n",
      "           1       0.57      0.14      0.22      2356\n",
      "\n",
      "    accuracy                           0.76      9579\n",
      "   macro avg       0.67      0.55      0.54      9579\n",
      "weighted avg       0.72      0.76      0.70      9579\n",
      "\n"
     ]
    }
   ],
   "source": [
    "mymodel(logreg)"
   ]
  },
  {
   "cell_type": "code",
   "execution_count": 40,
   "id": "0cd7b9a6",
   "metadata": {},
   "outputs": [
    {
     "name": "stdout",
     "output_type": "stream",
     "text": [
      "0.7159411212026308\n",
      "              precision    recall  f1-score   support\n",
      "\n",
      "           0       0.77      0.88      0.82      7223\n",
      "           1       0.36      0.21      0.26      2356\n",
      "\n",
      "    accuracy                           0.72      9579\n",
      "   macro avg       0.57      0.54      0.54      9579\n",
      "weighted avg       0.67      0.72      0.69      9579\n",
      "\n"
     ]
    }
   ],
   "source": [
    "mymodel(knn)"
   ]
  },
  {
   "cell_type": "code",
   "execution_count": 41,
   "id": "be5758a7",
   "metadata": {},
   "outputs": [
    {
     "name": "stdout",
     "output_type": "stream",
     "text": [
      "0.7540453074433657\n",
      "              precision    recall  f1-score   support\n",
      "\n",
      "           0       0.75      1.00      0.86      7223\n",
      "           1       0.00      0.00      0.00      2356\n",
      "\n",
      "    accuracy                           0.75      9579\n",
      "   macro avg       0.38      0.50      0.43      9579\n",
      "weighted avg       0.57      0.75      0.65      9579\n",
      "\n"
     ]
    }
   ],
   "source": [
    "mymodel(svm)"
   ]
  },
  {
   "cell_type": "code",
   "execution_count": 42,
   "id": "e5930e62",
   "metadata": {},
   "outputs": [
    {
     "name": "stdout",
     "output_type": "stream",
     "text": [
      "0.66927654243658\n",
      "              precision    recall  f1-score   support\n",
      "\n",
      "           0       0.78      0.77      0.78      7223\n",
      "           1       0.34      0.35      0.34      2356\n",
      "\n",
      "    accuracy                           0.67      9579\n",
      "   macro avg       0.56      0.56      0.56      9579\n",
      "weighted avg       0.67      0.67      0.67      9579\n",
      "\n"
     ]
    }
   ],
   "source": [
    "mymodel(dt)"
   ]
  },
  {
   "cell_type": "code",
   "execution_count": 43,
   "id": "6ae0c5b1",
   "metadata": {},
   "outputs": [],
   "source": [
    "from sklearn.ensemble import RandomForestClassifier"
   ]
  },
  {
   "cell_type": "code",
   "execution_count": 44,
   "id": "2fb0fcd4",
   "metadata": {},
   "outputs": [],
   "source": [
    "rf = RandomForestClassifier(max_samples=100, random_state=5)\n",
    "rf.fit(xtrain, ytrain)\n",
    "ypred = rf.predict(xtest)"
   ]
  },
  {
   "cell_type": "code",
   "execution_count": 45,
   "id": "675a62dc",
   "metadata": {},
   "outputs": [
    {
     "name": "stdout",
     "output_type": "stream",
     "text": [
      "0.7627100949994781\n",
      "              precision    recall  f1-score   support\n",
      "\n",
      "           0       0.77      0.98      0.86      7223\n",
      "           1       0.60      0.11      0.19      2356\n",
      "\n",
      "    accuracy                           0.76      9579\n",
      "   macro avg       0.68      0.54      0.52      9579\n",
      "weighted avg       0.73      0.76      0.69      9579\n",
      "\n"
     ]
    }
   ],
   "source": [
    "print(accuracy_score(ytest, ypred))\n",
    "print(classification_report(ytest, ypred))"
   ]
  },
  {
   "cell_type": "code",
   "execution_count": 46,
   "id": "38bb0f60",
   "metadata": {},
   "outputs": [],
   "source": [
    "from sklearn.ensemble import AdaBoostClassifier"
   ]
  },
  {
   "cell_type": "code",
   "execution_count": 47,
   "id": "43abb2ee",
   "metadata": {},
   "outputs": [],
   "source": [
    "ada=AdaBoostClassifier(n_estimators=100)"
   ]
  },
  {
   "cell_type": "code",
   "execution_count": 48,
   "id": "a77a3c06",
   "metadata": {},
   "outputs": [
    {
     "name": "stdout",
     "output_type": "stream",
     "text": [
      "0.7620837248146988\n",
      "              precision    recall  f1-score   support\n",
      "\n",
      "           0       0.78      0.96      0.86      7223\n",
      "           1       0.55      0.17      0.26      2356\n",
      "\n",
      "    accuracy                           0.76      9579\n",
      "   macro avg       0.67      0.56      0.56      9579\n",
      "weighted avg       0.72      0.76      0.71      9579\n",
      "\n"
     ]
    }
   ],
   "source": [
    "mymodel(ada)"
   ]
  },
  {
   "cell_type": "code",
   "execution_count": 49,
   "id": "cfce8164",
   "metadata": {},
   "outputs": [],
   "source": [
    "from sklearn.ensemble import GradientBoostingClassifier"
   ]
  },
  {
   "cell_type": "code",
   "execution_count": 50,
   "id": "994dad86",
   "metadata": {},
   "outputs": [],
   "source": [
    "gdc=GradientBoostingClassifier(n_estimators=100)"
   ]
  },
  {
   "cell_type": "code",
   "execution_count": 51,
   "id": "79b7da9d",
   "metadata": {},
   "outputs": [
    {
     "name": "stdout",
     "output_type": "stream",
     "text": [
      "0.7618749347531057\n",
      "              precision    recall  f1-score   support\n",
      "\n",
      "           0       0.78      0.96      0.86      7223\n",
      "           1       0.55      0.16      0.25      2356\n",
      "\n",
      "    accuracy                           0.76      9579\n",
      "   macro avg       0.67      0.56      0.56      9579\n",
      "weighted avg       0.72      0.76      0.71      9579\n",
      "\n"
     ]
    }
   ],
   "source": [
    "mymodel(gdc)"
   ]
  },
  {
   "cell_type": "code",
   "execution_count": 52,
   "id": "e2ab97e2",
   "metadata": {},
   "outputs": [],
   "source": [
    "from xgboost import XGBClassifier"
   ]
  },
  {
   "cell_type": "code",
   "execution_count": 53,
   "id": "a0f08630",
   "metadata": {},
   "outputs": [],
   "source": [
    " xgb=XGBClassifier()"
   ]
  },
  {
   "cell_type": "code",
   "execution_count": 54,
   "id": "861c5cfc",
   "metadata": {},
   "outputs": [
    {
     "name": "stdout",
     "output_type": "stream",
     "text": [
      "[17:11:51] WARNING: C:/Users/Administrator/workspace/xgboost-win64_release_1.4.0/src/learner.cc:1095: Starting in XGBoost 1.3.0, the default evaluation metric used with the objective 'binary:logistic' was changed from 'error' to 'logloss'. Explicitly set eval_metric if you'd like to restore the old behavior.\n",
      "0.7421442739325608\n",
      "              precision    recall  f1-score   support\n",
      "\n",
      "           0       0.78      0.91      0.84      7223\n",
      "           1       0.45      0.23      0.30      2356\n",
      "\n",
      "    accuracy                           0.74      9579\n",
      "   macro avg       0.62      0.57      0.57      9579\n",
      "weighted avg       0.70      0.74      0.71      9579\n",
      "\n"
     ]
    }
   ],
   "source": [
    "mymodel(xgb)"
   ]
  },
  {
   "cell_type": "markdown",
   "id": "f7f31b31",
   "metadata": {},
   "source": [
    "# Hyperparameter Tunning"
   ]
  },
  {
   "cell_type": "code",
   "execution_count": 55,
   "id": "d74825e3",
   "metadata": {},
   "outputs": [
    {
     "name": "stdout",
     "output_type": "stream",
     "text": [
      "1-:0.666144691512684\n",
      "2-:0.7329575112224658\n",
      "3-:0.7034137175070466\n",
      "4-:0.7358805720847688\n",
      "5-:0.7159411212026308\n",
      "6-:0.7415179037477816\n",
      "7-:0.7334794863764484\n",
      "8-:0.7465288652260152\n",
      "9-:0.7424574590249504\n",
      "10-:0.7497651111807078\n",
      "11-:0.7426662490865434\n",
      "12-:0.7498695062115043\n",
      "13-:0.7461112851028291\n",
      "14-:0.7495563211191147\n",
      "15-:0.7450673347948638\n",
      "16-:0.7497651111807078\n",
      "17-:0.7484079757803529\n",
      "18-:0.7491387409959286\n",
      "19-:0.7490343459651321\n",
      "20-:0.7484079757803529\n",
      "21-:0.7488255559035389\n",
      "22-:0.7483035807495563\n",
      "23-:0.7501826913038939\n",
      "24-:0.7500782962730974\n",
      "25-:0.7493475310575216\n",
      "26-:0.7513310366426558\n",
      "27-:0.7508090614886731\n",
      "28-:0.7537321223509761\n",
      "29-:0.7520618018582316\n"
     ]
    }
   ],
   "source": [
    "accuracy = []\n",
    "for i in range(1,30):\n",
    "    knn = KNeighborsClassifier(n_neighbors=i)\n",
    "    knn.fit(xtrain, ytrain)\n",
    "    ypred = knn.predict(xtest)\n",
    "    accuracy=accuracy_score(ytest, ypred)\n",
    "    print(f\"{i}-:{accuracy}\")"
   ]
  },
  {
   "cell_type": "code",
   "execution_count": 56,
   "id": "896b3c0a",
   "metadata": {},
   "outputs": [
    {
     "name": "stdout",
     "output_type": "stream",
     "text": [
      "0.7537321223509761\n",
      "              precision    recall  f1-score   support\n",
      "\n",
      "           0       0.76      0.97      0.86      7223\n",
      "           1       0.50      0.08      0.13      2356\n",
      "\n",
      "    accuracy                           0.75      9579\n",
      "   macro avg       0.63      0.53      0.49      9579\n",
      "weighted avg       0.70      0.75      0.68      9579\n",
      "\n"
     ]
    }
   ],
   "source": [
    "knn = KNeighborsClassifier(n_neighbors=28)\n",
    "mymodel(knn)"
   ]
  },
  {
   "cell_type": "code",
   "execution_count": 57,
   "id": "29e9f953",
   "metadata": {},
   "outputs": [
    {
     "name": "stdout",
     "output_type": "stream",
     "text": [
      "0.7629188850610711\n",
      "              precision    recall  f1-score   support\n",
      "\n",
      "           0       0.77      0.97      0.86      7223\n",
      "           1       0.58      0.13      0.21      2356\n",
      "\n",
      "    accuracy                           0.76      9579\n",
      "   macro avg       0.68      0.55      0.54      9579\n",
      "weighted avg       0.73      0.76      0.70      9579\n",
      "\n"
     ]
    }
   ],
   "source": [
    "logreg = LogisticRegression(solver=\"liblinear\")\n",
    "mymodel(logreg)"
   ]
  },
  {
   "cell_type": "code",
   "execution_count": 58,
   "id": "064eef7e",
   "metadata": {},
   "outputs": [
    {
     "name": "stdout",
     "output_type": "stream",
     "text": [
      " 1 -: 0.7540453074433657\n",
      " 2 -: 0.7540453074433657\n",
      " 3 -: 0.7627100949994781\n",
      " 4 -: 0.7637540453074434\n",
      " 5 -: 0.7659463409541706\n",
      " 6 -: 0.7622925148762919\n",
      " 7 -: 0.7619793297839023\n",
      " 8 -: 0.7573859484288548\n",
      " 9 -: 0.7525837770122142\n",
      " 10 -: 0.7467376552876083\n",
      " 11 -: 0.7337926714688381\n",
      " 12 -: 0.7264850193130807\n",
      " 13 -: 0.7227267982044054\n",
      " 14 -: 0.7155235410794446\n",
      " 15 -: 0.7086334690468734\n",
      " 16 -: 0.7000730765215576\n",
      " 17 -: 0.6973588057208477\n",
      " 18 -: 0.6878588579183631\n",
      " 19 -: 0.6922434492118175\n"
     ]
    }
   ],
   "source": [
    "for i in range(1,20):\n",
    "    dt1 = DecisionTreeClassifier(max_depth=i)\n",
    "    dt1.fit(xtrain, ytrain)\n",
    "    ypred = dt1.predict(xtest)\n",
    "    print(f\" {i} -: {accuracy_score(ytest, ypred)}\")"
   ]
  },
  {
   "cell_type": "code",
   "execution_count": 59,
   "id": "2400d4a9",
   "metadata": {},
   "outputs": [
    {
     "name": "stdout",
     "output_type": "stream",
     "text": [
      "0.7659463409541706\n",
      "              precision    recall  f1-score   support\n",
      "\n",
      "           0       0.78      0.95      0.86      7223\n",
      "           1       0.57      0.19      0.29      2356\n",
      "\n",
      "    accuracy                           0.77      9579\n",
      "   macro avg       0.68      0.57      0.57      9579\n",
      "weighted avg       0.73      0.77      0.72      9579\n",
      "\n"
     ]
    }
   ],
   "source": [
    "dt2 = DecisionTreeClassifier(max_depth=5)\n",
    "mymodel(dt2)"
   ]
  },
  {
   "cell_type": "code",
   "execution_count": 60,
   "id": "d4e9e1e6",
   "metadata": {},
   "outputs": [
    {
     "name": "stdout",
     "output_type": "stream",
     "text": [
      "Avg. Accuracy-: 0.7575939876038037\n",
      "STD -: 0.006066141243032777\n"
     ]
    }
   ],
   "source": [
    "cvs = cross_val_score(logreg, x,y, cv=15, scoring=\"accuracy\")\n",
    "print(f\"Avg. Accuracy-: {cvs.mean()}\\nSTD -: {cvs.std()}\")"
   ]
  },
  {
   "cell_type": "code",
   "execution_count": 61,
   "id": "ea919f3f",
   "metadata": {},
   "outputs": [
    {
     "name": "stdout",
     "output_type": "stream",
     "text": [
      "Avg. Accuracy-: 0.7488254332398286\n",
      "STD -: 0.0033084728848460894\n"
     ]
    }
   ],
   "source": [
    "cvs = cross_val_score(knn, x,y, cv=15, scoring=\"accuracy\")\n",
    "print(f\"Avg. Accuracy-: {cvs.mean()}\\nSTD -: {cvs.std()}\")"
   ]
  },
  {
   "cell_type": "code",
   "execution_count": 62,
   "id": "ad31c499",
   "metadata": {},
   "outputs": [
    {
     "name": "stdout",
     "output_type": "stream",
     "text": [
      "Avg. Accuracy-: 0.663899234030594\n",
      "STD -: 0.008701166873279646\n"
     ]
    }
   ],
   "source": [
    "cvs = cross_val_score(dt, x,y, cv=15, scoring=\"accuracy\")\n",
    "print(f\"Avg. Accuracy-: {cvs.mean()}\\nSTD -: {cvs.std()}\")"
   ]
  },
  {
   "cell_type": "code",
   "execution_count": 63,
   "id": "252d9761",
   "metadata": {},
   "outputs": [
    {
     "name": "stdout",
     "output_type": "stream",
     "text": [
      "Avg. Accuracy-: 0.7558713632180273\n",
      "STD -: 0.004777136141474523\n"
     ]
    }
   ],
   "source": [
    "cvs = cross_val_score(rf, x,y, cv=15, scoring=\"accuracy\")\n",
    "print(f\"Avg. Accuracy-: {cvs.mean()}\\nSTD -: {cvs.std()}\")"
   ]
  },
  {
   "cell_type": "code",
   "execution_count": 64,
   "id": "537346d0",
   "metadata": {},
   "outputs": [
    {
     "name": "stdout",
     "output_type": "stream",
     "text": [
      "Avg. Accuracy-: 0.7569153544778633\n",
      "STD -: 0.005360948300538764\n"
     ]
    }
   ],
   "source": [
    "cvs = cross_val_score(ada, x,y, cv=15, scoring=\"accuracy\")\n",
    "print(f\"Avg. Accuracy-: {cvs.mean()}\\nSTD -: {cvs.std()}\")"
   ]
  },
  {
   "cell_type": "code",
   "execution_count": 65,
   "id": "ea5b5e14",
   "metadata": {},
   "outputs": [
    {
     "name": "stdout",
     "output_type": "stream",
     "text": [
      "Avg. Accuracy-: 0.7600469197621414\n",
      "STD -: 0.0059230277032515976\n"
     ]
    }
   ],
   "source": [
    "cvs = cross_val_score(gdc, x,y, cv=15, scoring=\"accuracy\")\n",
    "print(f\"Avg. Accuracy-: {cvs.mean()}\\nSTD -: {cvs.std()}\")"
   ]
  },
  {
   "cell_type": "code",
   "execution_count": 67,
   "id": "05c478ff",
   "metadata": {},
   "outputs": [],
   "source": [
    "ypredprob = rf.predict_proba(xtest)[:,1]"
   ]
  },
  {
   "cell_type": "code",
   "execution_count": 68,
   "id": "28c25e89",
   "metadata": {},
   "outputs": [
    {
     "data": {
      "text/plain": [
       "array([0.24, 0.34, 0.25, ..., 0.08, 0.05, 0.11])"
      ]
     },
     "execution_count": 68,
     "metadata": {},
     "output_type": "execute_result"
    }
   ],
   "source": [
    "ypredprob"
   ]
  },
  {
   "cell_type": "code",
   "execution_count": 69,
   "id": "8c3a4f85",
   "metadata": {},
   "outputs": [
    {
     "data": {
      "image/png": "[encoded data removed]",
      "text/plain": [
       "<Figure size 432x288 with 1 Axes>"
      ]
     },
     "metadata": {
      "needs_background": "light"
     },
     "output_type": "display_data"
    }
   ],
   "source": [
    "plt.hist(ypredprob)\n",
    "plt.title(\"Histogram of predicted Probabilities\")\n",
    "plt.xlabel(\"Predicted probabilities of employees change their job\")\n",
    "plt.ylabel(\"Frequency\")\n",
    "plt.grid(True)\n",
    "plt.show()"
   ]
  },
  {
   "cell_type": "code",
   "execution_count": 70,
   "id": "efebd293",
   "metadata": {},
   "outputs": [],
   "source": [
    "from sklearn.preprocessing import binarize"
   ]
  },
  {
   "cell_type": "code",
   "execution_count": 71,
   "id": "9d639be3",
   "metadata": {},
   "outputs": [],
   "source": [
    "ypred = binarize([ypredprob], threshold=0.20)"
   ]
  },
  {
   "cell_type": "code",
   "execution_count": 72,
   "id": "90e9b716",
   "metadata": {},
   "outputs": [],
   "source": [
    "from sklearn.metrics import roc_curve"
   ]
  },
  {
   "cell_type": "code",
   "execution_count": 73,
   "id": "7625fc56",
   "metadata": {},
   "outputs": [
    {
     "data": {
      "image/png": "[encoded data removed]",
      "text/plain": [
       "<Figure size 432x288 with 1 Axes>"
      ]
     },
     "metadata": {
      "needs_background": "light"
     },
     "output_type": "display_data"
    }
   ],
   "source": [
    "fpr, tpr, thres = roc_curve(ytest, ypredprob)\n",
    "plt.plot(fpr, tpr)\n",
    "plt.title(\"ROC curve\")\n",
    "plt.xlabel(\"False Positive Rate (1-Specificity)\")\n",
    "plt.ylabel(\"True Positive Rate (Sensitivity)\")\n",
    "plt.grid(True)\n",
    "plt.show()"
   ]
  },
  {
   "cell_type": "code",
   "execution_count": 74,
   "id": "21555c05",
   "metadata": {},
   "outputs": [
    {
     "data": {
      "text/plain": [
       "GridSearchCV(estimator=DecisionTreeClassifier(random_state=0),\n",
       "             param_grid={'max_depth': [None, 2, 2, 6, 8, 10, 12]},\n",
       "             scoring='accuracy')"
      ]
     },
     "execution_count": 74,
     "metadata": {},
     "output_type": "execute_result"
    }
   ],
   "source": [
    "from sklearn.model_selection import GridSearchCV\n",
    "max_depth = [None,2,2,6,8,10,12]\n",
    "parameter={'max_depth':max_depth}\n",
    "classifier=DecisionTreeClassifier(random_state=0)\n",
    "gs= GridSearchCV(classifier,parameter,scoring='accuracy')\n",
    "\n",
    "gs.fit(xtrain, ytrain)"
   ]
  },
  {
   "cell_type": "code",
   "execution_count": 75,
   "id": "3c587f00",
   "metadata": {},
   "outputs": [
    {
     "name": "stdout",
     "output_type": "stream",
     "text": [
      "0.7627100949994781\n"
     ]
    }
   ],
   "source": [
    "classifier=gs.best_estimator_\n",
    "gs.fit(xtrain, ytrain)\n",
    "ypred = rf.predict(xtest)\n",
    "accuracy=accuracy_score(ytest,ypred)\n",
    "print(accuracy)"
   ]
  },
  {
   "cell_type": "markdown",
   "id": "c0fd4e4e",
   "metadata": {},
   "source": [
    "# Result"
   ]
  },
  {
   "cell_type": "markdown",
   "id": "f4deaaff",
   "metadata": {},
   "source": [
    "The maximum accuracy got as 76.18 % by using Logistic Regression and gradient boost Classifier"
   ]
  }
 ],
 "metadata": {
  "kernelspec": {
   "display_name": "Python 3 (ipykernel)",
   "language": "python",
   "name": "python3"
  },
  "language_info": {
   "codemirror_mode": {
    "name": "ipython",
    "version": 3
   },
   "file_extension": ".py",
   "mimetype": "text/x-python",
   "name": "python",
   "nbconvert_exporter": "python",
   "pygments_lexer": "ipython3",
   "version": "3.9.5"
  }
 },
 "nbformat": 4,
 "nbformat_minor": 5
}
